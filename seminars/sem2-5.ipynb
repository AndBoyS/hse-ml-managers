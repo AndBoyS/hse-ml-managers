{
 "cells": [
  {
   "cell_type": "markdown",
   "metadata": {},
   "source": [
    "# Импорты"
   ]
  },
  {
   "cell_type": "code",
   "execution_count": 2,
   "metadata": {},
   "outputs": [],
   "source": [
    "import re\n",
    "\n",
    "import pandas as pd\n",
    "from matplotlib import pyplot as plt\n",
    "\n",
    "# Для более качественных графиков\n",
    "%config InlineBackend.figure_format='retina'\n",
    "plt.rcParams[\"figure.dpi\"] = 150"
   ]
  },
  {
   "cell_type": "markdown",
   "metadata": {},
   "source": [
    "# Обогащение, разметка датасетов"
   ]
  },
  {
   "cell_type": "markdown",
   "metadata": {},
   "source": [
    "## Регулярные выражения"
   ]
  },
  {
   "cell_type": "markdown",
   "metadata": {},
   "source": [
    "Регулярные выражение - формальный язык для составления текстовых шаблонов. При помощи этих шаблонов можно искать и обрабатывать текст\n",
    "\n",
    "[Документация](https://docs.python.org/3/library/re.html)"
   ]
  },
  {
   "cell_type": "markdown",
   "metadata": {},
   "source": [
    "__Специальные символы регулярных выражений__\n",
    "\n",
    "Внутри регулярного выражения символы `.   ^   $  *  +  ?   {  } [  ]  \\  |  ( ) -` имеют специальное значение. \n",
    "* Если эти символы требуется выводить как есть, то их следует экранировать с помощью слэша `\\`.\n",
    "* Некоторые сnециальные символы теряют свое особое значение, если их разместить внутри квадратных скобок `[]`. В этом случае экранировать их не нужно. "
   ]
  },
  {
   "cell_type": "markdown",
   "metadata": {},
   "source": [
    "__Основные методы__\n",
    "\n",
    "* `re.match()` - Этот метод ищет по заданному шаблону в начале строки. Возвращает первое вхождение подстроки в виде объекта SRE_Match object, из которого:\n",
    "    * можно получить результирующую подстроку с помощью функции group\n",
    "    * индексы начальной и конечной позиции с помощью функций start() и end(), соответственно.\n",
    "* `re.search()` - ищет по заданному шаблону во всей строке\n",
    "* `re.findall()` - возвращает список всех найденных совпадений (подстрок).\n",
    "* `re.split()` - разделяет строку по заданному шаблону\n",
    "* `re.sub()` - заменяет шаблон на указанную подстроку."
   ]
  },
  {
   "cell_type": "markdown",
   "metadata": {},
   "source": [
    "В квадратных скобках `[]` можно указать символы, которые могут встречаться на этом месте в строке. Можно перечислять символы подряд или указать их диапазон через тире. Например:\n",
    "* `[09]` - соответствует цифре 0 или 9 <br>\n",
    "* `[0-9]` - соответствует одной цифре от 0 до 9 <br>\n",
    "* `[абв]` - соответствует букве \"а\", \"б\" или \"в\" <br>\n",
    "* `[а-г]` - соответствует букве \"а\", \"б\", \"в\" или \"г\" <br>\n",
    "* `[а-я]` - соответствует любой букве от \"а\" до \"я\", кроме буквы \"ё\" (т.к. \"ё\" находится вне непрерывного дипаозона символов русского алфавита) <br>\n",
    "* `[а-яё]` - соответствует любой букве от \"а\" до \"я\" <br>\n",
    "* `[АБВ]` - соответствует букве \"А\", \"Б\" или \"В\" <br>\n",
    "* `[А-ЯЁ]` - соответствует любой букве от \"А\" до \"Я\" <br>\n",
    "* `[а-яА-ЯёЁ]` - соответствует любой русской букве в любом регистре <br>\n",
    "* `[0-9а-яА-ЯёЁа-zА-Z]` - любая цифра и любая буква независимо от регистра и языка"
   ]
  },
  {
   "cell_type": "markdown",
   "metadata": {},
   "source": [
    "Вместо перечисления символов можно использовать стандартные классы: <br>\n",
    "\n",
    "* . - любой символ, кроме перевода строки (если точка не экранирована и не заключена в квадратные скобки)\n",
    "* \\d - соответствует любой цифре (эквивалентно [0-9]) <br>\n",
    "* \\w - соответствует любой букве, цифре или символу подчеркивания ([a-zA-Zа-яЁА-ЯЁ0-9_]) <br>\n",
    "* \\s - любой пробельный символ (пробел, перевод строки, табуляция и т.д.) <br>\n",
    "* \\D - не цифра (эквивалентно [^0-9]) <br>\n",
    "* \\W - не буква, не цифра и не символ подчеркивания (эквивалентно [^a-zA-Zа-яЁА-ЯЁ0-9_]) <br>\n",
    "* \\S - не пробельный символ <br>\n",
    "* \\b - обозначение левой или правой границы слова (где слово трактуется как последовательность букв или цифр)"
   ]
  },
  {
   "cell_type": "markdown",
   "metadata": {},
   "source": [
    "С помощью квантификаторов задается количество вхождений символа в строку. Указывается после символа, к которому относится разрешенное количество повторений: <br>\n",
    "\n",
    "* `{n}` - n вхождений символа в строку. Например. шаблон `r\"[0-9]{2}\"` соответствует двум вхождениям любой цифры\n",
    "* `{n,}` - n или более вхождений символа в строку. Например. шаблон `r\"[0-9]{2,}\"` соответствует двум и более вхождениям любой цифры\n",
    "* `{n,m}` - не менее n и не более m вхождений символа в строку. Числа указываются через запятую без пробела. \n",
    "    * Например, шаблон `r\"[0-9]{2,4}\"` соответствует от двух до четырех вхождениям любой цифры\n",
    "* `*` - ноль или большее число вхождений символа в строку. Эквивалентно комбинации `{0,}`\n",
    "* `+` - одно или большее число вхождений символа в строку. Эквивалентно комбинации `{1,}`\n",
    "* `?` - ни одного или одно вхождение символа в строку. Эквивалентно комбинации `{0,1}`. "
   ]
  },
  {
   "cell_type": "markdown",
   "metadata": {},
   "source": [
    "Еще полезные символы:\n",
    "\n",
    "* `^` - привязка к началу строки или подстроки.\n",
    "* `$` - привязка к концу строки или подстроки."
   ]
  },
  {
   "cell_type": "code",
   "execution_count": null,
   "metadata": {},
   "outputs": [
    {
     "name": "stdout",
     "output_type": "stream",
     "text": [
      "\"Hey there! I’m a guy with a solid job and a medium income. I've got plans in mind that require some funding, but my loan has been pre-approved. I’m confident I can manage the repayments without any stress. Let’s discuss the next steps forward!\"\n",
      "\"Hi there! We are a couple with a solid financial background, and we’re interested in exploring loan options. Our income is quite substantial, and we’re confident in our ability to manage repayments. We appreciate your guidance in finding the best solutions for our financial goals.\"\n",
      "\"I'm a male client with a modest income. I work hard, and despite my financial challenges, I'm committed to repaying any loans I take. I believe in planning for the future, and I'm here to discuss options that can help me achieve my goals without overextending myself.\"\n",
      "\"Hello, we’re a working couple enjoying the stability of our careers. Our outlook involves fulfilling financial aspirations responsibly. We’re interested in banking options that enable both security and growth.\"\n",
      "\"Greetings, we're Chris and Sam. Both employed, we lead a balanced financial life. Our borrowing plans are crafted meticulously, promising effortless repayments. We thrive on stability and foresee no hurdles in maintaining our reliable financial reputation.\"\n"
     ]
    }
   ],
   "source": [
    "df = pd.read_csv(\"data/train.csv\")\n",
    "\n",
    "default_df = df[df[\"дефолт\"] == 1]\n",
    "print(*list(df[\"речь\"].iloc[:5]), sep=\"\\n\")"
   ]
  },
  {
   "cell_type": "code",
   "execution_count": 8,
   "metadata": {},
   "outputs": [
    {
     "data": {
      "text/plain": [
       "['solid', 'medium']"
      ]
     },
     "execution_count": 8,
     "metadata": {},
     "output_type": "execute_result"
    }
   ],
   "source": [
    "re.findall(r\"(solid|medium)\", \"guy with a solid job and a medium income\")"
   ]
  },
  {
   "cell_type": "code",
   "execution_count": 46,
   "metadata": {},
   "outputs": [
    {
     "name": "stdout",
     "output_type": "stream",
     "text": [
      "\"I'm Taylor, my loan was pre-approved, which was a relief. Despite a steady job, financial surprises do come. Sometimes it feels as if money slips through my fingers faster than I'd like to admit. I’m seeking advice on restructuring my finances for better stability and assurance.\"\n",
      "\"Hello! We’re a couple with a low income, and while we didn’t get pre-approved for a loan, we’re trying to stay positive. Life has thrown some curveballs our way, and we’re looking for guidance on how to navigate our financial challenges together.\"\n",
      "\"We're a joint application with advanced approval and are typically well-off. However, lately, juggling unexpected expenses feels like trying to catch raindrops in a sieve. Maybe sharing this load can help reset my compass in life.\"\n",
      "\"Hello, I work diligently in a stable position. However, you know, life's unexpected turns can sometimes throw things off. Balancing everything becomes a challenging dance, but I'm optimistic about turning things around with a bit of help and understanding.\"\n",
      "\"Hey! I’m in a bit of a tricky spot right now, working a stable job, but things don’t seem to align. I’ve been looking into a loan, though I'm not sure how it will all pan out. Let's hope for some clarity together.\"\n"
     ]
    }
   ],
   "source": [
    "print(*list(default_df[\"речь\"].iloc[5:10]), sep=\"\\n\")"
   ]
  },
  {
   "cell_type": "code",
   "execution_count": 45,
   "metadata": {},
   "outputs": [
    {
     "data": {
      "text/plain": [
       "['sure1']"
      ]
     },
     "execution_count": 45,
     "metadata": {},
     "output_type": "execute_result"
    }
   ],
   "source": [
    "re.findall(r\"(?<!not\\s)sure\\d\", \"sure1 not sure2\")"
   ]
  },
  {
   "cell_type": "markdown",
   "metadata": {},
   "source": [
    "Задание: используя одно из регулярных выражений, создайте новый столбец в таблице"
   ]
  },
  {
   "cell_type": "markdown",
   "metadata": {},
   "source": [
    "# Кросс-валидация"
   ]
  },
  {
   "cell_type": "code",
   "execution_count": 57,
   "metadata": {},
   "outputs": [],
   "source": [
    "from sklearn.model_selection import KFold, train_test_split\n",
    "from sklearn.linear_model import LogisticRegression\n",
    "from sklearn.metrics import f1_score\n",
    "from sklearn.preprocessing import StandardScaler\n",
    "\n",
    "model = LogisticRegression()\n",
    "\n",
    "X = df.drop(columns=\"дефолт\")\n",
    "y = df[\"дефолт\"]\n",
    "num_cols = X.select_dtypes(exclude=object).columns\n",
    "X = X[num_cols]\n",
    "X = X.fillna(0)\n",
    "scaler = StandardScaler()\n",
    "X = scaler.fit_transform(X)\n",
    "X_train, X_test, y_train, y_test = train_test_split(X, y, test_size=0.2, random_state=42)\n",
    "\n",
    "metrics = []\n",
    "\n",
    "kf = KFold(n_splits=5)\n",
    "for train_index, test_index in kf.split(X_train):\n",
    "    cur_X_train = X_train[train_index]\n",
    "    cur_y_train = y_train.iloc[train_index]\n",
    "    cur_X_val = X_train[test_index]\n",
    "    cur_y_val = y_train.iloc[test_index]\n",
    "\n",
    "    model.fit(X_train, y_train)\n",
    "    pred = model.predict(cur_X_val)\n",
    "    metrics.append(f1_score(y_true=cur_y_val, y_pred=pred))\n"
   ]
  },
  {
   "cell_type": "code",
   "execution_count": 58,
   "metadata": {},
   "outputs": [
    {
     "data": {
      "text/plain": [
       "[0.41346153846153844,\n",
       " 0.45454545454545453,\n",
       " 0.4722222222222222,\n",
       " 0.4352078239608802,\n",
       " 0.4282238442822384]"
      ]
     },
     "execution_count": 58,
     "metadata": {},
     "output_type": "execute_result"
    }
   ],
   "source": [
    "metrics"
   ]
  },
  {
   "cell_type": "code",
   "execution_count": null,
   "metadata": {},
   "outputs": [],
   "source": []
  }
 ],
 "metadata": {
  "kernelspec": {
   "display_name": ".venv",
   "language": "python",
   "name": "python3"
  },
  "language_info": {
   "codemirror_mode": {
    "name": "ipython",
    "version": 3
   },
   "file_extension": ".py",
   "mimetype": "text/x-python",
   "name": "python",
   "nbconvert_exporter": "python",
   "pygments_lexer": "ipython3",
   "version": "3.11.10"
  }
 },
 "nbformat": 4,
 "nbformat_minor": 2
}
