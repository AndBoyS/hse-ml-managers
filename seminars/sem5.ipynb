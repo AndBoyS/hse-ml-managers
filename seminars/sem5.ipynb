{
 "cells": [
  {
   "cell_type": "markdown",
   "metadata": {},
   "source": [
    "# Импорты"
   ]
  },
  {
   "cell_type": "code",
   "execution_count": 16,
   "metadata": {},
   "outputs": [],
   "source": [
    "import json\n",
    "import sys\n",
    "\n",
    "import pandas as pd\n",
    "import requests\n",
    "\n",
    "IN_COLAB = \"google.colab\" in sys.modules\n",
    "if IN_COLAB:\n",
    "    !pip install gigachat\n",
    "\n",
    "from gigachat import GigaChat"
   ]
  },
  {
   "cell_type": "markdown",
   "metadata": {},
   "source": [
    "# Использование LLM для разметки"
   ]
  },
  {
   "cell_type": "markdown",
   "metadata": {},
   "source": [
    "## Бесплатный способ"
   ]
  },
  {
   "cell_type": "markdown",
   "metadata": {},
   "source": [
    "Нужно получить authentication key на [сайте](https://developers.sber.ru/studio)"
   ]
  },
  {
   "cell_type": "code",
   "execution_count": null,
   "metadata": {},
   "outputs": [],
   "source": [
    "auth_key = \"\""
   ]
  },
  {
   "cell_type": "code",
   "execution_count": 42,
   "metadata": {},
   "outputs": [
    {
     "data": {
      "text/plain": [
       "'Amogus — это относительно новый мем-игровой феномен, который стал популярным благодаря игре с тем же названием. В игре пользователи соревнуются в создании смешных и креативных мемов, которые могут быть связаны с текущими трендами или просто забавными ситуациями.\\n\\n### Плюсы игры:\\n1. **Простота**: Игра интуитивно понятна и не требует особых знаний для начала. Это делает её привлекательной для широкой аудитории.\\n2. **Социальный аспект**: Пользователи могут взаимодействовать друг с другом через создание мемов и комментирование чужих работ. Это способствует созданию сообществ и обмену идеями.\\n3. **Мемы**: Поскольку игра основана на мемах, она позволяет пользователям выражать свою креативность и чувство юмора.\\n4. **Развлекательный контент**: Для многих людей игра становится способом отвлечься и повеселиться.\\n\\n### Минусы игры:\\n1. **Зависимость**: Как и многие другие онлайн-игры, Amogus может стать источником зависимости, особенно если играть слишком много времени.\\n2. **Контент**: Некоторые мемы могут быть оскорбительными или неприемлемыми для некоторых пользователей. Важно помнить о безопасности контента, особенно при участии детей.\\n3. **Качество мемов**: Не все пользователи обладают навыками создания качественных мемов, что может привести к снижению интереса у тех, кто хочет видеть более интересные работы.\\n\\nВ целом, игра Amogus имеет свои плюсы и минусы, но её успех во многом зависит от того, как пользователь подходит к ней. Если воспринимать игру как способ развлечения и самовыражения, то она может принести немало позитивных эмоций.'"
      ]
     },
     "execution_count": 42,
     "metadata": {},
     "output_type": "execute_result"
    }
   ],
   "source": [
    "def ask_question_free(prompt):\n",
    "    giga = GigaChat(credentials=auth_key, model=\"GigaChat\", verify_ssl_certs=False)\n",
    "    return giga.chat(prompt).choices[0].message.content\n",
    "\n",
    "\n",
    "ask_question_free(\"is amogus a good game?\")"
   ]
  },
  {
   "cell_type": "markdown",
   "metadata": {},
   "source": [
    "## Платный способ"
   ]
  },
  {
   "cell_type": "markdown",
   "metadata": {},
   "source": [
    "[Ссылка на сервис](https://proxyapi.ru/)"
   ]
  },
  {
   "cell_type": "code",
   "execution_count": 4,
   "metadata": {},
   "outputs": [],
   "source": [
    "private_key = \"\""
   ]
  },
  {
   "cell_type": "code",
   "execution_count": 6,
   "metadata": {},
   "outputs": [
    {
     "data": {
      "text/plain": [
       "[\"Oh hi, Mark! I don't have voice capabilities, but if I could, I would totally channel the unique charm of Tommy Wiseau! His distinct accent, quirky phrases, and that unforgettable delivery would definitely come through. Just imagine a mix of his intensity and humor! If you want, I can help you come up with some classic Tommy Wiseau lines. What do you think?\"]"
      ]
     },
     "execution_count": 6,
     "metadata": {},
     "output_type": "execute_result"
    }
   ],
   "source": [
    "def ask_question(prompt, key):\n",
    "    url = \"https://api.proxyapi.ru/openai/v1/chat/completions\"\n",
    "    headers = {\"Content-Type\": \"application/json\", \"Authorization\": f\"Bearer {key}\"}\n",
    "    data = {\"model\": \"gpt-4o-mini\", \"messages\": [{\"role\": \"user\", \"content\": prompt}]}\n",
    "    response = requests.post(url, headers=headers, data=json.dumps(data))\n",
    "\n",
    "    if response.status_code == 200:\n",
    "        return [d[\"message\"][\"content\"] for d in response.json()[\"choices\"]]\n",
    "\n",
    "    raise requests.RequestException(response.status_code, response.text)\n",
    "\n",
    "\n",
    "ask_question(\"Can you do Tommy Wiseau impression?\", private_key)"
   ]
  },
  {
   "cell_type": "markdown",
   "metadata": {},
   "source": [
    "## Разметка"
   ]
  },
  {
   "cell_type": "markdown",
   "metadata": {},
   "source": [
    "Задача: ниже взята часть датасета с обзорами, используя запросы к llm, сделайте предсказание (негативный класс или позитивный) на этой выборке, посчитайте f1.\n",
    "Попробуйте улучшить качество при помощи улучшения промпта"
   ]
  },
  {
   "cell_type": "code",
   "execution_count": 53,
   "metadata": {},
   "outputs": [],
   "source": [
    "df = pd.read_csv(\"data/anime_reviews.csv\")\n",
    "df_sample = df.sample(10, random_state=2)"
   ]
  },
  {
   "cell_type": "code",
   "execution_count": null,
   "metadata": {},
   "outputs": [],
   "source": []
  }
 ],
 "metadata": {
  "kernelspec": {
   "display_name": ".venv",
   "language": "python",
   "name": "python3"
  },
  "language_info": {
   "codemirror_mode": {
    "name": "ipython",
    "version": 3
   },
   "file_extension": ".py",
   "mimetype": "text/x-python",
   "name": "python",
   "nbconvert_exporter": "python",
   "pygments_lexer": "ipython3",
   "version": "3.11.10"
  }
 },
 "nbformat": 4,
 "nbformat_minor": 2
}
