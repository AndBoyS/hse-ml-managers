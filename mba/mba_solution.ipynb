{
 "cells": [
  {
   "cell_type": "markdown",
   "metadata": {},
   "source": [
    "# Импорты"
   ]
  },
  {
   "cell_type": "code",
   "execution_count": 1,
   "metadata": {},
   "outputs": [],
   "source": [
    "from collections.abc import Iterable\n",
    "from typing import Any\n",
    "\n",
    "import numpy as np\n",
    "import pandas as pd\n",
    "from matplotlib import pyplot as plt\n",
    "from sklearn.compose import ColumnTransformer\n",
    "from sklearn.discriminant_analysis import StandardScaler\n",
    "from sklearn.ensemble import RandomForestClassifier\n",
    "from sklearn.impute import SimpleImputer\n",
    "from sklearn.linear_model import LogisticRegression\n",
    "from sklearn.metrics import f1_score\n",
    "from sklearn.model_selection import GridSearchCV, KFold, ParameterGrid, train_test_split\n",
    "from sklearn.pipeline import FunctionTransformer, Pipeline, make_pipeline\n",
    "from sklearn.preprocessing import OneHotEncoder, OrdinalEncoder\n",
    "from tqdm import tqdm\n",
    "\n",
    "from src.mba import business, modeling, transforms, vis\n",
    "from src.mba.const import DATA_PATH, TARGET\n",
    "\n",
    "# Для более качественных графиков\n",
    "%config InlineBackend.figure_format='retina'\n",
    "plt.rcParams[\"figure.dpi\"] = 150\n",
    "%load_ext autoreload\n",
    "%autoreload 2"
   ]
  },
  {
   "cell_type": "markdown",
   "metadata": {},
   "source": [
    "# Датасет"
   ]
  },
  {
   "cell_type": "markdown",
   "metadata": {},
   "source": [
    "### Загрузить в pandas"
   ]
  },
  {
   "cell_type": "code",
   "execution_count": null,
   "metadata": {},
   "outputs": [],
   "source": [
    "loan_data = pd.read_csv(DATA_PATH)\n",
    "loan_data"
   ]
  },
  {
   "cell_type": "markdown",
   "metadata": {},
   "source": [
    "### Наличие аномалий"
   ]
  },
  {
   "cell_type": "code",
   "execution_count": null,
   "metadata": {},
   "outputs": [],
   "source": [
    "vis.plot_anomalies(loan_data, [\"сумма\"])"
   ]
  },
  {
   "cell_type": "markdown",
   "metadata": {},
   "source": [
    "### Заменить аномальные значения"
   ]
  },
  {
   "cell_type": "code",
   "execution_count": null,
   "metadata": {},
   "outputs": [],
   "source": [
    "# Добавить в пайп модели\n",
    "\n",
    "clipper = FunctionTransformer(transforms.clip_anomalies, kw_args={\"cols\": [\"сумма\"]})\n",
    "pipe = make_pipeline(clipper)"
   ]
  },
  {
   "cell_type": "code",
   "execution_count": null,
   "metadata": {},
   "outputs": [],
   "source": [
    "# Vis\n",
    "cols = [\"сумма\"]\n",
    "vis.plot_anomalies(transforms.clip_anomalies(loan_data, cols), cols)"
   ]
  },
  {
   "cell_type": "markdown",
   "metadata": {},
   "source": [
    "### Убрать аномальные значения"
   ]
  },
  {
   "cell_type": "code",
   "execution_count": null,
   "metadata": {},
   "outputs": [],
   "source": [
    "# В пайпе нельзя юзать\n",
    "\n",
    "# Vis\n",
    "cols = [\"сумма\"]\n",
    "vis.plot_anomalies(transforms.remove_anomalies(loan_data, cols), cols)"
   ]
  },
  {
   "cell_type": "markdown",
   "metadata": {},
   "source": [
    "### Построить гистограммы"
   ]
  },
  {
   "cell_type": "code",
   "execution_count": null,
   "metadata": {},
   "outputs": [],
   "source": [
    "vis.plot_hist(loan_data, [\"сумма\"])"
   ]
  },
  {
   "cell_type": "markdown",
   "metadata": {},
   "source": [
    "### Построить корреляционную матрицу"
   ]
  },
  {
   "cell_type": "code",
   "execution_count": null,
   "metadata": {},
   "outputs": [],
   "source": [
    "vis.plot_corr(loan_data, [\"сумма\", \"дефолт\"])"
   ]
  },
  {
   "cell_type": "markdown",
   "metadata": {},
   "source": [
    "### Нормализовать числовые значения"
   ]
  },
  {
   "cell_type": "code",
   "execution_count": null,
   "metadata": {},
   "outputs": [],
   "source": [
    "scaler = StandardScaler()\n",
    "scaler.fit_transform(loan_data[[\"сумма\"]])"
   ]
  },
  {
   "cell_type": "markdown",
   "metadata": {},
   "source": [
    "### Пропуски"
   ]
  },
  {
   "cell_type": "code",
   "execution_count": null,
   "metadata": {},
   "outputs": [],
   "source": [
    "vis.plot_nan(loan_data)"
   ]
  },
  {
   "cell_type": "markdown",
   "metadata": {},
   "source": [
    "### Заполнить пропуски"
   ]
  },
  {
   "cell_type": "code",
   "execution_count": null,
   "metadata": {},
   "outputs": [],
   "source": [
    "imputer = SimpleImputer(strategy=\"mean\")\n",
    "imputer.fit_transform(loan_data[[\"сумма\"]])"
   ]
  },
  {
   "cell_type": "markdown",
   "metadata": {},
   "source": [
    "### Уникальные значения в категориальных столбцах"
   ]
  },
  {
   "cell_type": "code",
   "execution_count": null,
   "metadata": {},
   "outputs": [],
   "source": [
    "vis.plot_categorical_distributions(loan_data, [\"кредитоспособность\"])"
   ]
  },
  {
   "cell_type": "code",
   "execution_count": null,
   "metadata": {},
   "outputs": [],
   "source": [
    "vis.print_value_counts(loan_data, [\"кредитоспособность\"])"
   ]
  },
  {
   "cell_type": "markdown",
   "metadata": {},
   "source": [
    "### Заполнить пропуски в категориальных столбцах"
   ]
  },
  {
   "cell_type": "code",
   "execution_count": null,
   "metadata": {},
   "outputs": [],
   "source": [
    "cat_cols = [\"кредитоспособность\"]\n",
    "cat_imputer = ColumnTransformer(\n",
    "    [(\"imputer\", SimpleImputer(strategy=\"most_frequent\"), cat_cols)],\n",
    "    remainder=\"passthrough\",\n",
    ")"
   ]
  },
  {
   "cell_type": "markdown",
   "metadata": {},
   "source": [
    "### Закодировать категориальные признаки при помощи one hot encoding"
   ]
  },
  {
   "cell_type": "code",
   "execution_count": null,
   "metadata": {},
   "outputs": [],
   "source": [
    "cat_cols = [\"цель\"]\n",
    "cat_encoder = ColumnTransformer(\n",
    "    [(\"encoder\", OneHotEncoder(), cat_cols)],\n",
    "    remainder=\"passthrough\",\n",
    ")"
   ]
  },
  {
   "cell_type": "markdown",
   "metadata": {},
   "source": [
    "### Закодировать категориальные признаки при помощи label encoding"
   ]
  },
  {
   "cell_type": "code",
   "execution_count": 14,
   "metadata": {},
   "outputs": [],
   "source": [
    "cat_cols = [\"цель\"]\n",
    "cat_encoder = ColumnTransformer(\n",
    "    [(\"encoder\", OrdinalEncoder(), cat_cols)],\n",
    "    remainder=\"passthrough\",\n",
    ")"
   ]
  },
  {
   "cell_type": "markdown",
   "metadata": {},
   "source": [
    "### Связь категориальных переменных и таргета"
   ]
  },
  {
   "cell_type": "code",
   "execution_count": null,
   "metadata": {},
   "outputs": [],
   "source": [
    "vis.visualize_cat_and_target(loan_data, [\"кредитоспособность\"])"
   ]
  },
  {
   "cell_type": "markdown",
   "metadata": {},
   "source": [
    "# Модель"
   ]
  },
  {
   "cell_type": "markdown",
   "metadata": {},
   "source": [
    "### Обучить модель без разделения"
   ]
  },
  {
   "cell_type": "code",
   "execution_count": null,
   "metadata": {},
   "outputs": [],
   "source": [
    "def train_log_reg(data: pd.DataFrame) -> None:\n",
    "    X, y = modeling.get_xy(data)\n",
    "    float_cols = X.select_dtypes(exclude=object).columns\n",
    "\n",
    "    pipe = Pipeline(\n",
    "        [\n",
    "            (\"feat_select\", transforms.FeatSelector(float_cols)),\n",
    "            (\"impute\", SimpleImputer(strategy=\"constant\", fill_value=0)),\n",
    "            (\"model\", LogisticRegression(random_state=42)),\n",
    "        ]\n",
    "    )\n",
    "\n",
    "    pipe.fit(X, y)\n",
    "    pred = pipe.predict(X)\n",
    "    modeling.print_metrics(y_true=y, y_pred=pred)\n",
    "\n",
    "\n",
    "train_log_reg(loan_data)"
   ]
  },
  {
   "cell_type": "markdown",
   "metadata": {},
   "source": [
    "### Сделать трансформ на столбцах"
   ]
  },
  {
   "cell_type": "code",
   "execution_count": 17,
   "metadata": {},
   "outputs": [],
   "source": [
    "scaler = ColumnTransformer(\n",
    "    [\n",
    "        (\"scaler\", StandardScaler(), [\"сумма\"]),\n",
    "    ],\n",
    "    remainder=\"passthrough\",\n",
    ")"
   ]
  },
  {
   "cell_type": "markdown",
   "metadata": {},
   "source": [
    "### Разделить выборку на обучающее и тестовое множество"
   ]
  },
  {
   "cell_type": "code",
   "execution_count": null,
   "metadata": {},
   "outputs": [],
   "source": [
    "# можно юзать и модифицировать modeling.get_train_test для удобства\n",
    "df_train, df_test = train_test_split(loan_data, test_size=0.33, random_state=42)"
   ]
  },
  {
   "cell_type": "markdown",
   "metadata": {},
   "source": [
    "### Сделать отчет о классификации"
   ]
  },
  {
   "cell_type": "code",
   "execution_count": null,
   "metadata": {},
   "outputs": [],
   "source": [
    "# Модифицируйте modeling.print_metrics"
   ]
  },
  {
   "cell_type": "markdown",
   "metadata": {},
   "source": [
    "### Разделить выборку на обучающее и тестовое множество со стратификацией"
   ]
  },
  {
   "cell_type": "code",
   "execution_count": 19,
   "metadata": {},
   "outputs": [],
   "source": [
    "# можно юзать и модифицировать modeling.get_train_test для удобства\n",
    "df_train, df_test = train_test_split(loan_data, test_size=0.33, random_state=42, stratify=loan_data[TARGET])"
   ]
  },
  {
   "cell_type": "markdown",
   "metadata": {},
   "source": [
    "### Обучить модель с разделением"
   ]
  },
  {
   "cell_type": "code",
   "execution_count": null,
   "metadata": {},
   "outputs": [],
   "source": [
    "def train_model_with_test(data: pd.DataFrame) -> None:\n",
    "    df_train, df_test = modeling.get_train_test(data)\n",
    "\n",
    "    X_train, y_train = modeling.get_xy(df_train)\n",
    "    X_test, y_test = modeling.get_xy(df_test)\n",
    "\n",
    "    float_cols = X_train.select_dtypes(exclude=object).columns\n",
    "\n",
    "    pipe = make_pipeline(\n",
    "        transforms.FeatSelector(float_cols),\n",
    "        SimpleImputer(strategy=\"constant\", fill_value=0),\n",
    "        LogisticRegression(random_state=42),\n",
    "    )\n",
    "    pipe.fit(X_train, y_train)\n",
    "\n",
    "    print(\"Train\")\n",
    "    pred = pipe.predict(X_train)\n",
    "    modeling.print_metrics(y_pred=pred, y_true=y_train)\n",
    "    print()\n",
    "\n",
    "    print(\"Test\")\n",
    "    pred = pipe.predict(X_test)\n",
    "    modeling.print_metrics(y_pred=pred, y_true=y_test)\n",
    "    print()\n",
    "\n",
    "\n",
    "train_model_with_test(loan_data)"
   ]
  },
  {
   "cell_type": "markdown",
   "metadata": {},
   "source": [
    "### Обучить модель с настройкой гиперпараметров"
   ]
  },
  {
   "cell_type": "code",
   "execution_count": null,
   "metadata": {},
   "outputs": [],
   "source": [
    "def grid_search(data: pd.DataFrame) -> None:\n",
    "    def get_model(cols: Iterable[str], **kwargs: Any) -> Pipeline:\n",
    "        return make_pipeline(transforms.FeatSelector(cols), RandomForestClassifier(random_state=42, **kwargs))\n",
    "\n",
    "    df_train, df_test = modeling.get_train_test(data)\n",
    "    X_train, y_train = modeling.get_xy(df_train)\n",
    "    X_test, y_test = modeling.get_xy(df_test)\n",
    "    float_cols = X_train.select_dtypes(exclude=object).columns\n",
    "\n",
    "    params = {\n",
    "        \"bootstrap\": [True, False],\n",
    "        # \"max_depth\": [10, 20, 30, 40, 50, 60, 70, 80, 90, 100, None],\n",
    "        # \"max_features\": [\"auto\", \"sqrt\"],\n",
    "        # \"min_samples_leaf\": [1, 2, 4],\n",
    "        # \"min_samples_split\": [2, 5, 10],\n",
    "        # \"n_estimators\": [200, 400, 600, 800, 1000, 1200, 1400, 1600, 1800, 2000],\n",
    "    }\n",
    "\n",
    "    best_metric = -np.inf\n",
    "    best_kwargs: dict[str, Any] | None = None\n",
    "\n",
    "    for kwargs in tqdm(ParameterGrid(params)):\n",
    "        cur_pipe = get_model(float_cols, **kwargs)\n",
    "        cur_pipe.fit(X_train, y_train)\n",
    "        pred = cur_pipe.predict(X_test)\n",
    "        metric = f1_score(y_true=y_test, y_pred=pred)\n",
    "        if metric > best_metric:\n",
    "            best_metric = metric\n",
    "            best_kwargs = kwargs\n",
    "\n",
    "    print(f\"Best metric: {best_metric:.3f}\")\n",
    "    print(f\"Best kwargs: {best_kwargs}\")\n",
    "\n",
    "\n",
    "grid_search(loan_data)"
   ]
  },
  {
   "cell_type": "markdown",
   "metadata": {},
   "source": [
    "### Обучить модель с настройкой гиперпараметров на кросс вале"
   ]
  },
  {
   "cell_type": "code",
   "execution_count": null,
   "metadata": {},
   "outputs": [],
   "source": [
    "def grid_search_cv(data: pd.DataFrame) -> None:\n",
    "    X, y = modeling.get_xy(data)\n",
    "    float_cols = X.select_dtypes(exclude=object).columns\n",
    "\n",
    "    params = {\n",
    "        \"randomforestclassifier__bootstrap\": [True, False],\n",
    "        # \"randomforestclassifier__max_depth\": [10, 20, 30, 40, 50, 60, 70, 80, 90, 100, None],\n",
    "        # \"randomforestclassifier__max_features\": [\"auto\", \"sqrt\"],\n",
    "        # \"randomforestclassifier__min_samples_leaf\": [1, 2, 4],\n",
    "        # \"randomforestclassifier__min_samples_split\": [2, 5, 10],\n",
    "        # \"randomforestclassifier__n_estimators\": [200, 400, 600, 800, 1000, 1200, 1400, 1600, 1800, 2000],\n",
    "    }\n",
    "\n",
    "    model = make_pipeline(transforms.FeatSelector(float_cols), RandomForestClassifier(random_state=42))\n",
    "    pipe = GridSearchCV(model, param_grid=params)\n",
    "    pipe.fit(X, y)\n",
    "    print(\"Best params:\", pipe.best_params_)\n",
    "    print(\"Best score:\", pipe.best_score_)\n",
    "\n",
    "\n",
    "grid_search_cv(loan_data)"
   ]
  },
  {
   "cell_type": "markdown",
   "metadata": {},
   "source": [
    "### Обучить модель с настройкой гиперпараметров на кросс вале (для кастомной метрики)"
   ]
  },
  {
   "cell_type": "code",
   "execution_count": null,
   "metadata": {},
   "outputs": [],
   "source": [
    "def grid_search_cv_custom(data: pd.DataFrame, n_splits: int = 3) -> None:\n",
    "    def get_model(cols: Iterable[str], **kwargs: Any) -> Pipeline:\n",
    "        return make_pipeline(transforms.FeatSelector(cols), RandomForestClassifier(random_state=42, **kwargs))\n",
    "\n",
    "    X, y = modeling.get_xy(data)\n",
    "    float_cols = X.select_dtypes(exclude=object).columns\n",
    "    params = {\n",
    "        \"bootstrap\": [True, False],\n",
    "        # \"max_depth\": [10, 20, 30, 40, 50, 60, 70, 80, 90, 100, None],\n",
    "        # \"max_features\": [\"auto\", \"sqrt\"],\n",
    "        # \"min_samples_leaf\": [1, 2, 4],\n",
    "        # \"min_samples_split\": [2, 5, 10],\n",
    "        # \"n_estimators\": [200, 400, 600, 800, 1000, 1200, 1400, 1600, 1800, 2000],\n",
    "    }\n",
    "\n",
    "    best_metric = -np.inf\n",
    "    best_kwargs: dict[str, Any] | None = None\n",
    "\n",
    "    folds = list(KFold(n_splits=n_splits).split(X))\n",
    "\n",
    "    for kwargs in tqdm(ParameterGrid(params)):\n",
    "        fold_metrics: list[float] = []\n",
    "\n",
    "        for train_i, test_i in folds:\n",
    "            X_train, y_train = X.loc[train_i], y.loc[train_i]\n",
    "            X_test, y_test = X.loc[test_i], y.loc[test_i]\n",
    "\n",
    "            cur_pipe = get_model(float_cols, **kwargs)\n",
    "            cur_pipe.fit(X_train, y_train)\n",
    "            pred = cur_pipe.predict(X_test)\n",
    "            cur_metric = business.profit(y_true=y_test, y_pred=pred, feats=X_test)\n",
    "            fold_metrics.append(cur_metric)\n",
    "\n",
    "        metric = float(np.mean(fold_metrics))\n",
    "        if metric > best_metric:\n",
    "            best_metric = metric\n",
    "            best_kwargs = kwargs\n",
    "\n",
    "    print(f\"Best metric: {best_metric:.3f}\")\n",
    "    print(f\"Best kwargs: {best_kwargs}\")\n",
    "\n",
    "\n",
    "grid_search_cv_custom(loan_data)"
   ]
  },
  {
   "cell_type": "markdown",
   "metadata": {},
   "source": [
    "### Разработка текстовых фич"
   ]
  },
  {
   "cell_type": "code",
   "execution_count": null,
   "metadata": {},
   "outputs": [],
   "source": [
    "# transforms.TextFeaturesExtractor\n",
    "\n",
    "\n",
    "def train_text(data: pd.DataFrame) -> None:\n",
    "    df_train, df_test = modeling.get_train_test(data)\n",
    "\n",
    "    X_train, y_train = modeling.get_xy(df_train)\n",
    "    X_test, y_test = modeling.get_xy(df_test)\n",
    "\n",
    "    cols = list(X_train.select_dtypes(exclude=object).columns)\n",
    "    cols.append(\"речь\")\n",
    "\n",
    "    pipe = make_pipeline(\n",
    "        transforms.FeatSelector(cols),\n",
    "        transforms.TextFeaturesExtractor(text_feat=\"речь\"),\n",
    "        SimpleImputer(strategy=\"mean\"),\n",
    "        StandardScaler(),\n",
    "        LogisticRegression(random_state=42),\n",
    "    )\n",
    "    pipe.fit(X_train, y_train)\n",
    "\n",
    "    print(\"Train\")\n",
    "    pred = pipe.predict(X_train)\n",
    "    modeling.print_metrics(y_pred=pred, y_true=y_train)\n",
    "    print()\n",
    "\n",
    "    print(\"Test\")\n",
    "    pred = pipe.predict(X_test)\n",
    "    modeling.print_metrics(y_pred=pred, y_true=y_test)\n",
    "    print()\n",
    "\n",
    "\n",
    "train_text(loan_data)"
   ]
  },
  {
   "cell_type": "markdown",
   "metadata": {},
   "source": [
    "# Бизнес"
   ]
  },
  {
   "cell_type": "markdown",
   "metadata": {},
   "source": [
    "### Спроектировать бизнес-метрику для модели"
   ]
  },
  {
   "cell_type": "code",
   "execution_count": null,
   "metadata": {},
   "outputs": [],
   "source": [
    "# Наша реализация - business.profit"
   ]
  }
 ],
 "metadata": {
  "kernelspec": {
   "display_name": ".venv",
   "language": "python",
   "name": "python3"
  },
  "language_info": {
   "codemirror_mode": {
    "name": "ipython",
    "version": 3
   },
   "file_extension": ".py",
   "mimetype": "text/x-python",
   "name": "python",
   "nbconvert_exporter": "python",
   "pygments_lexer": "ipython3",
   "version": "3.11.10"
  }
 },
 "nbformat": 4,
 "nbformat_minor": 2
}
