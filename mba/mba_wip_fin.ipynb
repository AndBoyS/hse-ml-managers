{
 "cells": [
  {
   "cell_type": "code",
   "execution_count": 1,
   "metadata": {},
   "outputs": [],
   "source": [
    "%load_ext autoreload\n",
    "%autoreload 2"
   ]
  },
  {
   "cell_type": "code",
   "execution_count": 2,
   "metadata": {},
   "outputs": [
    {
     "name": "stdout",
     "output_type": "stream",
     "text": [
      "The autoreload extension is already loaded. To reload it, use:\n",
      "  %reload_ext autoreload\n"
     ]
    }
   ],
   "source": [
    "from collections.abc import Iterable\n",
    "from typing import Any\n",
    "\n",
    "import numpy as np\n",
    "import pandas as pd\n",
    "from matplotlib import pyplot as plt\n",
    "from sklearn.compose import ColumnTransformer\n",
    "from sklearn.discriminant_analysis import StandardScaler\n",
    "from sklearn.ensemble import RandomForestClassifier\n",
    "from sklearn.impute import SimpleImputer\n",
    "from sklearn.linear_model import LogisticRegression\n",
    "from sklearn.metrics import f1_score\n",
    "from sklearn.model_selection import GridSearchCV, KFold, ParameterGrid, train_test_split\n",
    "from sklearn.pipeline import FunctionTransformer, Pipeline, make_pipeline\n",
    "from sklearn.preprocessing import OneHotEncoder, OrdinalEncoder\n",
    "from tqdm import tqdm\n",
    "from sklearn.impute import SimpleImputer\n",
    "\n",
    "from src import business, modeling, transforms, vis\n",
    "from src.const import DATA_PATH, TARGET\n",
    "\n",
    "# Для более качественных графиков\n",
    "%config InlineBackend.figure_format='retina'\n",
    "plt.rcParams[\"figure.dpi\"] = 150\n",
    "%load_ext autoreload\n",
    "%autoreload 2"
   ]
  },
  {
   "cell_type": "code",
   "execution_count": 3,
   "metadata": {},
   "outputs": [],
   "source": [
    "age_mapping = {\n",
    "    \"45-54\": 3,     \n",
    "    \"35-44\": 2,    \n",
    "    \"55-64\": 4,     \n",
    "    \"65-74\": 5,  \n",
    "    \"25-34\": 1,    \n",
    "    \">74\": 6,       \n",
    "    \"<25\": 0, \n",
    "}\n",
    "\n",
    "gender_mapping = {\n",
    "    \"м\": 1,     \n",
    "    \"ж\": 2,     \n",
    "}\n"
   ]
  },
  {
   "cell_type": "code",
   "execution_count": null,
   "metadata": {},
   "outputs": [],
   "source": [
    "import os\n",
    "import openai\n",
    "from getpass import getpass\n",
    "\n",
    "\n",
    "def _getpass(env_var: str):\n",
    "    if not os.environ.get(env_var):\n",
    "        os.environ[env_var] = getpass(f\"{env_var}=\")\n",
    "\n",
    "_getpass(\"OPENAI_API_KEY\") "
   ]
  },
  {
   "cell_type": "code",
   "execution_count": null,
   "metadata": {},
   "outputs": [],
   "source": [
    "import json\n",
    "def send_message(user_input):\n",
    "    prompt = \"\"\"\n",
    "    You're a loan officer's assistant. I'll give you a customer's message, evaluate how reliable a customer he is. Evaluate its reliability on a scale from 1 to 10, and also describe the reasons.\n",
    "    Much score is better (A more reliable borrower)\n",
    "    In response, give json in this form {\"reason\": #text reasons#, \"score\": #Number of score#}\n",
    "    \n",
    "    User message:\\n\n",
    "    \"\"\"\n",
    "    messages = []\n",
    "    messages.append({\"role\": \"user\", \"content\": prompt+user_input})\n",
    "\n",
    "    completion = openai.chat.completions.create(\n",
    "        model=\"gpt-4o-mini\",\n",
    "        messages=messages\n",
    "    )\n",
    "\n",
    "    assistant_reply = completion.choices[0].message.content\n",
    "    messages.append({\"role\": \"assistant\", \"content\": assistant_reply})\n",
    "    try:\n",
    "        return int(json.loads(assistant_reply)[\"score\"])\n",
    "    except Exception as e:\n",
    "        print(e)\n",
    "        return -1"
   ]
  },
  {
   "cell_type": "code",
   "execution_count": 6,
   "metadata": {},
   "outputs": [],
   "source": [
    "loan_data = pd.read_csv(DATA_PATH)\n",
    "# loan_data[\"llm_score\"] = loan_data[\"речь\"].map(send_message)\n",
    "\n",
    "df_train, df_test = train_test_split(\n",
    "    loan_data,\n",
    "    test_size=0.2,       \n",
    "    random_state=42,     \n",
    ")\n",
    "df_train_original = df_train.copy()\n",
    "df_test_original = df_test.copy()\n",
    "\n",
    "df_train[\"возраст\"] = df_train[\"возраст\"].map(age_mapping).fillna(7) \n",
    "df_test[\"возраст\"] = df_test[\"возраст\"].map(age_mapping).fillna(7) \n",
    "\n",
    "df_train[\"пол\"] = df_train[\"пол\"].map(gender_mapping).fillna(0) \n",
    "df_test[\"пол\"] = df_test[\"пол\"].map(gender_mapping).fillna(0) \n",
    "\n",
    "category_counts = df_train[\"сбор\"].value_counts()\n",
    "rare_categories = category_counts[category_counts < 5].index\n",
    "\n",
    "df_train[\"сбор\"] = df_train[\"сбор\"].replace(rare_categories, 'RARE')\n",
    "df_test[\"сбор\"] = df_test[\"сбор\"].replace(rare_categories, 'RARE')\n",
    "\n",
    "sbor_mean_encoding = df_train.groupby('сбор')['дефолт'].mean()\n",
    "df_train['сбор_mean_encoded'] = df_train.pop('сбор').map(sbor_mean_encoding)\n",
    "df_test['сбор_mean_encoded'] = df_test.pop('сбор').map(sbor_mean_encoding)\n",
    "\n",
    "liv_mean_encoding = df_train.groupby('проживание')['дефолт'].mean()\n",
    "df_train['проживание_mean_encoded'] = df_train.pop('проживание').map(liv_mean_encoding)\n",
    "df_test['проживание_mean_encoded'] = df_test.pop('проживание').map(liv_mean_encoding)\n",
    "\n",
    "df_train.drop(columns=[\"тип_залога\"], inplace=True)\n",
    "df_test.drop(columns=[\"тип_залога\"], inplace=True)\n",
    "\n",
    "df_train[\"символов_в_речи\"] = df_train.pop(\"речь\").str.len()\n",
    "df_test[\"символов_в_речи\"] = df_test.pop(\"речь\").str.len()\n",
    "\n",
    "imputer = SimpleImputer(strategy='median')\n",
    "imputer = imputer.fit(df_train)\n",
    "\n",
    "df_train = pd.DataFrame(imputer.transform(df_train), columns=df_train.columns)\n",
    "df_test = pd.DataFrame(imputer.transform(df_test), columns=df_test.columns)\n"
   ]
  },
  {
   "cell_type": "code",
   "execution_count": 10,
   "metadata": {},
   "outputs": [],
   "source": [
    "def our_profit(loan_amount, y_pred, y_true):\n",
    "    return np.where(\n",
    "        (y_true == 1) & (y_pred == 0),\n",
    "        -loan_amount * 0.5,\n",
    "        np.where(\n",
    "            (y_true == 0) & (y_pred == 0),\n",
    "            loan_amount * 0.1,\n",
    "            0\n",
    "        )\n",
    "    ).sum()"
   ]
  },
  {
   "cell_type": "code",
   "execution_count": null,
   "metadata": {},
   "outputs": [],
   "source": []
  },
  {
   "cell_type": "code",
   "execution_count": null,
   "metadata": {},
   "outputs": [],
   "source": [
    "X_train = df_train.drop(columns=[TARGET])\n",
    "y_train = df_train[TARGET].astype(int)\n",
    "\n",
    "# X_test = df_test.drop(columns=[TARGET])\n",
    "# y_test = df_test[TARGET].astype(int)"
   ]
  },
  {
   "cell_type": "code",
   "execution_count": null,
   "metadata": {},
   "outputs": [],
   "source": [
    "clf = RandomForestClassifier(n_estimators=100)\n",
    "clf.fit(X_train, y_train)\n",
    "\n",
    "y_pred_train = clf.predict_proba(X_train)\n",
    "y_pred_test = clf.predict_proba(X_test)\n",
    "\n",
    "pts = []\n",
    "\n",
    "for t in np.linspace(0, 1, 100):\n",
    "    y_pred_train_t = (y_pred_train[:, 1] > t).astype(int)\n",
    "    y_pred_test_t = (y_pred_test[:, 1] > t).astype(int)\n",
    "\n",
    "    profit_train_t = our_profit(df_train[\"сумма\"], y_pred_train_t, y_train)\n",
    "    profit_test_t = our_profit(df_test[\"сумма\"], y_pred_test_t, y_test)\n",
    "\n",
    "    pts.append((t, profit_train_t, profit_test_t))\n",
    "stats_t = pd.DataFrame(pts, columns=[\"t\", \"profit@train\", \"profit@test\"])"
   ]
  },
  {
   "cell_type": "code",
   "execution_count": null,
   "metadata": {},
   "outputs": [],
   "source": []
  },
  {
   "cell_type": "markdown",
   "metadata": {},
   "source": [
    "# SUB"
   ]
  },
  {
   "cell_type": "code",
   "execution_count": null,
   "metadata": {},
   "outputs": [],
   "source": [
    "from pandas.core.frame import DataFrame\n",
    "\n",
    "\n",
    "loan_data: DataFrame = pd.read_csv(DATA_PATH)\n",
    "# loan_data[\"llm_score\"] = loan_data[\"речь\"].map(send_message)\n",
    "\n",
    "df_train = loan_data\n",
    "\n",
    "df_train[\"возраст\"] = df_train[\"возраст\"].map(age_mapping).fillna(7) \n",
    "\n",
    "df_train[\"пол\"] = df_train[\"пол\"].map(gender_mapping).fillna(0) \n",
    "\n",
    "category_counts = df_train[\"сбор\"].value_counts()\n",
    "rare_categories = category_counts[category_counts < 5].index\n",
    "\n",
    "df_train[\"сбор\"] = df_train[\"сбор\"].replace(rare_categories, 'RARE')\n",
    "\n",
    "sbor_mean_encoding = df_train.groupby('сбор')['дефолт'].mean()\n",
    "df_train['сбор_mean_encoded'] = df_train.pop('сбор').map(sbor_mean_encoding)\n",
    "\n",
    "liv_mean_encoding = df_train.groupby('проживание')['дефолт'].mean()\n",
    "df_train['проживание_mean_encoded'] = df_train.pop('проживание').map(liv_mean_encoding)\n",
    "\n",
    "df_train.drop(columns=[\"тип_залога\"], inplace=True)\n",
    "\n",
    "df_train[\"символов_в_речи\"] = df_train.pop(\"речь\").str.len()\n",
    "\n",
    "imputer = SimpleImputer(strategy='median')\n",
    "imputer = imputer.fit(df_train)\n",
    "\n",
    "df_train = pd.DataFrame(imputer.transform(df_train), columns=df_train.columns)"
   ]
  },
  {
   "cell_type": "code",
   "execution_count": 5,
   "metadata": {},
   "outputs": [],
   "source": [
    "X_train = df_train.drop(columns=[TARGET])\n",
    "y_train = df_train[TARGET].astype(int)"
   ]
  },
  {
   "cell_type": "code",
   "execution_count": null,
   "metadata": {},
   "outputs": [],
   "source": []
  },
  {
   "cell_type": "code",
   "execution_count": 7,
   "metadata": {},
   "outputs": [],
   "source": [
    "def our_profit(loan_amount, y_pred, y_true):\n",
    "    return np.where(\n",
    "        (y_true == 1) & (y_pred == 0),\n",
    "        -loan_amount * 0.5,\n",
    "        np.where(\n",
    "            (y_true == 0) & (y_pred == 0),\n",
    "            loan_amount * 0.1,\n",
    "            0\n",
    "        )\n",
    "    ).mean()"
   ]
  },
  {
   "cell_type": "code",
   "execution_count": null,
   "metadata": {},
   "outputs": [
    {
     "name": "stdout",
     "output_type": "stream",
     "text": [
      "Fitting 3 folds for each of 882 candidates, totalling 2646 fits\n"
     ]
    },
    {
     "ename": "NameError",
     "evalue": "name 'our_profit' is not defined",
     "output_type": "error",
     "traceback": [
      "\u001b[1;31m---------------------------------------------------------------------------\u001b[0m",
      "\u001b[1;31mNameError\u001b[0m                                 Traceback (most recent call last)",
      "Cell \u001b[1;32mIn[6], line 16\u001b[0m\n\u001b[0;32m     13\u001b[0m clf\u001b[38;5;241m.\u001b[39mfit(X_train, y_train)\n\u001b[0;32m     15\u001b[0m y_pred_train \u001b[38;5;241m=\u001b[39m clf\u001b[38;5;241m.\u001b[39mpredict(X_train)\n\u001b[1;32m---> 16\u001b[0m \u001b[38;5;28mprint\u001b[39m(\u001b[38;5;124m\"\u001b[39m\u001b[38;5;124mБизнес-метрика на трейне\u001b[39m\u001b[38;5;124m\"\u001b[39m, \u001b[43mour_profit\u001b[49m(df_train[\u001b[38;5;124m\"\u001b[39m\u001b[38;5;124mсумма\u001b[39m\u001b[38;5;124m\"\u001b[39m], y_pred_train, y_train))\n\u001b[0;32m     17\u001b[0m \u001b[38;5;28mprint\u001b[39m(\u001b[38;5;124m\"\u001b[39m\u001b[38;5;124mТочность на трейне:\u001b[39m\u001b[38;5;124m\"\u001b[39m, clf\u001b[38;5;241m.\u001b[39mscore(X_train, y_train))\n",
      "\u001b[1;31mNameError\u001b[0m: name 'our_profit' is not defined"
     ]
    }
   ],
   "source": [
    "clf = RandomForestClassifier()\n",
    "grid_search = GridSearchCV(\n",
    "    estimator=clf,\n",
    "    param_grid={\"n_estimators\": np.arange(3, 101), \"max_depth\": np.arange(2, 11)},\n",
    "    cv=3,\n",
    "    scoring='accuracy',\n",
    "    n_jobs=-1,\n",
    "    verbose=3\n",
    ")\n",
    "grid_search.fit(X_train, y_train)\n",
    "\n",
    "clf = RandomForestClassifier(**grid_search.best_params_)\n",
    "clf.fit(X_train, y_train)\n",
    "\n",
    "y_pred_train = clf.predict(X_train)"
   ]
  },
  {
   "cell_type": "code",
   "execution_count": 12,
   "metadata": {},
   "outputs": [
    {
     "data": {
      "text/plain": [
       "{'max_depth': 9, 'n_estimators': 37}"
      ]
     },
     "execution_count": 12,
     "metadata": {},
     "output_type": "execute_result"
    }
   ],
   "source": [
    "grid_search.best_params_"
   ]
  },
  {
   "cell_type": "code",
   "execution_count": 8,
   "metadata": {},
   "outputs": [
    {
     "name": "stdout",
     "output_type": "stream",
     "text": [
      "Бизнес-метрика на трейне 16487.526173207447\n",
      "Точность на трейне: 0.9295\n"
     ]
    }
   ],
   "source": [
    "print(\"Бизнес-метрика на трейне\", our_profit(df_train[\"сумма\"], y_pred_train, y_train))\n",
    "print(\"Точность на трейне:\", clf.score(X_train, y_train))"
   ]
  },
  {
   "cell_type": "code",
   "execution_count": 13,
   "metadata": {},
   "outputs": [],
   "source": [
    "test_loan_data = pd.read_csv(\"data/test_data.csv\")\n",
    "# test_loan_data[\"llm_score\"] = test_loan_data[\"речь\"].map(send_message)\n",
    "\n",
    "test_loan_data_original = test_loan_data.copy()\n",
    "test_loan_data[\"возраст\"] = test_loan_data[\"возраст\"].map(age_mapping).fillna(7) \n",
    "test_loan_data[\"пол\"] = test_loan_data[\"пол\"].map(gender_mapping).fillna(0) \n",
    "test_loan_data[\"сбор\"] = test_loan_data[\"сбор\"].replace(rare_categories, 'RARE')\n",
    "test_loan_data['сбор_mean_encoded'] = test_loan_data.pop('сбор').map(sbor_mean_encoding)\n",
    "test_loan_data['проживание_mean_encoded'] = test_loan_data.pop('проживание').map(liv_mean_encoding)\n",
    "test_loan_data.drop(columns=[\"тип_залога\"], inplace=True)\n",
    "test_loan_data[\"символов_в_речи\"] = test_loan_data.pop(\"речь\").str.len()\n",
    "test_loan_data = pd.DataFrame(imputer.transform(test_loan_data), columns=test_loan_data.columns)\n"
   ]
  },
  {
   "cell_type": "code",
   "execution_count": 14,
   "metadata": {},
   "outputs": [],
   "source": [
    "X_test = test_loan_data.drop(columns=[TARGET])\n",
    "y_test = test_loan_data[TARGET].astype(int)"
   ]
  },
  {
   "cell_type": "code",
   "execution_count": 23,
   "metadata": {},
   "outputs": [],
   "source": [
    "# y_test_pred = (clf.predict_proba(X_test)[:, 1] > 0.3).astype(int)\n",
    "y_test_pred = (clf.predict(X_test)).astype(int)"
   ]
  },
  {
   "cell_type": "code",
   "execution_count": 24,
   "metadata": {},
   "outputs": [
    {
     "data": {
      "text/plain": [
       "55151145.13203423"
      ]
     },
     "execution_count": 24,
     "metadata": {},
     "output_type": "execute_result"
    }
   ],
   "source": [
    "from src.business import profit\n",
    "\n",
    "profit(y_test, y_test_pred, pd.read_csv(\"data/test_data.csv\"))"
   ]
  },
  {
   "cell_type": "code",
   "execution_count": 20,
   "metadata": {},
   "outputs": [
    {
     "data": {
      "text/plain": [
       "лимит_нарушен          False\n",
       "пол                    False\n",
       "тип                    False\n",
       "цель                   False\n",
       "кредитоспособность     False\n",
       "другие_кредиты         False\n",
       "бизнес                 False\n",
       "сумма                  False\n",
       "сбор                    True\n",
       "срок                   False\n",
       "амортизация            False\n",
       "только_процент         False\n",
       "один_платеж            False\n",
       "стоимость_имущества    False\n",
       "проживание              True\n",
       "тип_залога              True\n",
       "тип_кредита            False\n",
       "кредитный_рейтинг      False\n",
       "возраст                False\n",
       "прямой_залог           False\n",
       "речь                    True\n",
       "дефолт                  True\n",
       "dtype: bool"
      ]
     },
     "execution_count": 20,
     "metadata": {},
     "output_type": "execute_result"
    }
   ],
   "source": [
    "(test_loan_data_original == pd.read_csv(\"data/test_data.csv\")).all()"
   ]
  },
  {
   "cell_type": "code",
   "execution_count": 19,
   "metadata": {},
   "outputs": [
    {
     "data": {
      "text/plain": [
       "0.8715"
      ]
     },
     "execution_count": 19,
     "metadata": {},
     "output_type": "execute_result"
    }
   ],
   "source": [
    "(y_test == y_test_pred).mean()"
   ]
  }
 ],
 "metadata": {
  "kernelspec": {
   "display_name": ".venv",
   "language": "python",
   "name": "python3"
  },
  "language_info": {
   "codemirror_mode": {
    "name": "ipython",
    "version": 3
   },
   "file_extension": ".py",
   "mimetype": "text/x-python",
   "name": "python",
   "nbconvert_exporter": "python",
   "pygments_lexer": "ipython3",
   "version": "3.12.3"
  }
 },
 "nbformat": 4,
 "nbformat_minor": 2
}
